{
  "nbformat": 4,
  "nbformat_minor": 0,
  "metadata": {
    "colab": {
      "provenance": [],
      "authorship_tag": "ABX9TyNHIg76Ktsp6DgkeNnNwf2B",
      "include_colab_link": true
    },
    "kernelspec": {
      "name": "python3",
      "display_name": "Python 3"
    },
    "language_info": {
      "name": "python"
    }
  },
  "cells": [
    {
      "cell_type": "markdown",
      "metadata": {
        "id": "view-in-github",
        "colab_type": "text"
      },
      "source": [
        "<a href=\"https://colab.research.google.com/github/fergordo994/prueba_tecnica_FG/blob/main/downloader_energinet.ipynb\" target=\"_parent\"><img src=\"https://colab.research.google.com/assets/colab-badge.svg\" alt=\"Open In Colab\"/></a>"
      ]
    },
    {
      "cell_type": "code",
      "execution_count": 8,
      "metadata": {
        "id": "qMd7-ACkmvJY"
      },
      "outputs": [],
      "source": [
        "import os\n",
        "import requests\n",
        "import pandas as pd\n",
        "from datetime import datetime, timedelta\n",
        "from google.cloud import bigquery\n",
        "from google.api_core.exceptions import NotFound\n"
      ]
    },
    {
      "cell_type": "code",
      "source": [
        "class EnerginetAPIClient:\n",
        "    \"\"\"Descarga registros del dataset Elspotprices de Energinet.\"\"\"\n",
        "    BASE_URL = \"https://api.energidataservice.dk/dataset/Elspotprices\"\n",
        "\n",
        "    def fetch_prices(self, start: str, end: str, limit: int = 100):\n",
        "        \"\"\"Devuelve la lista de records JSON entre start y end (YYYY-MM-DD).\"\"\"\n",
        "        params = {\"start\": start, \"end\": end, \"limit\": limit}\n",
        "        r = requests.get(self.BASE_URL, params=params, timeout=20)\n",
        "        r.raise_for_status()\n",
        "        js = r.json()\n",
        "        records = js.get(\"records\", [])\n",
        "        return records\n",
        "\n",
        "    def records_to_df(self, records):\n",
        "        \"\"\"Normaliza los records en un DataFrame (limpieza mínima).\"\"\"\n",
        "        if not records:\n",
        "            return pd.DataFrame()\n",
        "        df = pd.json_normalize(records)\n",
        "        if \"HourUTC\" in df.columns:\n",
        "            df[\"HourUTC\"] = pd.to_datetime(df[\"HourUTC\"])\n",
        "        for col in [\"SpotPriceDKK\", \"SpotPriceEUR\"]:\n",
        "            if col in df.columns:\n",
        "                df[col] = pd.to_numeric(df[col], errors=\"coerce\")\n",
        "        df[\"ingest_timestamp\"] = pd.Timestamp.utcnow()\n",
        "        return df\n"
      ],
      "metadata": {
        "id": "cCnaSwwP17PZ"
      },
      "execution_count": 9,
      "outputs": []
    },
    {
      "cell_type": "code",
      "source": [
        "class BigQueryUploader:\n",
        "    \"\"\"Sube DataFrame a BigQuery, crea dataset/tabla si hace falta.\"\"\"\n",
        "    def __init__(self, project_id: str, dataset_id: str, location: str = \"US\"):\n",
        "        self.project = project_id\n",
        "        self.dataset = dataset_id\n",
        "        self.location = location\n",
        "        self.client = bigquery.Client(project=self.project)\n",
        "\n",
        "    def ensure_dataset(self):\n",
        "        dataset_id = f\"{self.project}.{self.dataset}\"\n",
        "        try:\n",
        "            self.client.get_dataset(dataset_id)\n",
        "            print(f\"Dataset {dataset_id} ya existe.\")\n",
        "        except NotFound:\n",
        "            ds = bigquery.Dataset(dataset_id)\n",
        "            ds.location = self.location\n",
        "            self.client.create_dataset(ds)\n",
        "            print(f\"Dataset {dataset_id} creado.\")\n",
        "\n",
        "    def upload_dataframe(self, df: pd.DataFrame, table_name: str, write_disposition=\"WRITE_APPEND\"):\n",
        "        if df.empty:\n",
        "            print(\"DataFrame vacío — nada que subir.\")\n",
        "            return\n",
        "        table_id = f\"{self.project}.{self.dataset}.{table_name}\"\n",
        "        job_config = bigquery.LoadJobConfig()\n",
        "        job_config.write_disposition = write_disposition\n",
        "        job = self.client.load_table_from_dataframe(df, table_id, job_config=job_config)\n",
        "        job.result()\n",
        "        print(f\"Subidas {len(df)} filas a {table_id} (disposition={write_disposition}).\")\n"
      ],
      "metadata": {
        "id": "djfN1uB119zA"
      },
      "execution_count": 10,
      "outputs": []
    },
    {
      "cell_type": "code",
      "source": [
        "# Parámetros - Cambia PROJECT_ID por tu proyecto en GCP\n",
        "PROJECT_ID = os.environ.get(\"GCP_PROJECT\") or \"core-veld-475310-u0\"\n",
        "DATASET_ID = \"SANDBOX_apidata\"\n",
        "TABLE_NAME = \"elspot_prices\"\n",
        "\n",
        "# Fechas: por defecto día anterior -> hoy\n",
        "start_date = \"2024-01-01\"\n",
        "end_date   = \"2024-01-02\"\n",
        "\n",
        "# Descargar datos\n",
        "client = EnerginetAPIClient()\n",
        "records = client.fetch_prices(start=str(start_date), end=str(end_date), limit=100)\n",
        "print(f\"Registros descargados: {len(records)}\")\n",
        "\n",
        "df = client.records_to_df(records)\n",
        "print(df.head())\n",
        "\n",
        "# Subir a BigQuery\n",
        "uploader = BigQueryUploader(project_id=PROJECT_ID, dataset_id=DATASET_ID)\n",
        "uploader.ensure_dataset()\n",
        "uploader.upload_dataframe(df, TABLE_NAME)\n"
      ],
      "metadata": {
        "colab": {
          "base_uri": "https://localhost:8080/"
        },
        "id": "fOiyW4n01_aG",
        "outputId": "78d37221-af9f-4d04-c6df-bd775de8cfc5"
      },
      "execution_count": 13,
      "outputs": [
        {
          "output_type": "stream",
          "name": "stdout",
          "text": [
            "Registros descargados: 100\n",
            "              HourUTC               HourDK PriceArea  SpotPriceDKK  \\\n",
            "0 2024-01-01 22:00:00  2024-01-01T23:00:00        DE    265.019989   \n",
            "1 2024-01-01 22:00:00  2024-01-01T23:00:00       DK1    265.019989   \n",
            "2 2024-01-01 22:00:00  2024-01-01T23:00:00       DK2    283.279999   \n",
            "3 2024-01-01 22:00:00  2024-01-01T23:00:00       NO2    328.230011   \n",
            "4 2024-01-01 22:00:00  2024-01-01T23:00:00       SE3    283.279999   \n",
            "\n",
            "   SpotPriceEUR                 ingest_timestamp  \n",
            "0     35.549999 2025-10-16 11:48:48.528812+00:00  \n",
            "1     35.549999 2025-10-16 11:48:48.528812+00:00  \n",
            "2     38.000000 2025-10-16 11:48:48.528812+00:00  \n",
            "3     44.029999 2025-10-16 11:48:48.528812+00:00  \n",
            "4     38.000000 2025-10-16 11:48:48.528812+00:00  \n",
            "Dataset core-veld-475310-u0.SANDBOX_apidata ya existe.\n",
            "Subidas 100 filas a core-veld-475310-u0.SANDBOX_apidata.elspot_prices (disposition=WRITE_APPEND).\n"
          ]
        }
      ]
    },
    {
      "cell_type": "code",
      "source": [],
      "metadata": {
        "id": "nhoboVo52CWo"
      },
      "execution_count": null,
      "outputs": []
    }
  ]
}